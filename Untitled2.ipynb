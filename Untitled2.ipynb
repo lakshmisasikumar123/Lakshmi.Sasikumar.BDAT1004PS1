{
 "cells": [
  {
   "cell_type": "markdown",
   "id": "7e23c0fa",
   "metadata": {},
   "source": [
    "# Question 1 C#\n",
    "What data type is each of the following?"
   ]
  },
  {
   "cell_type": "markdown",
   "id": "8c14a5d4",
   "metadata": {},
   "source": [
    "1) 5 : int\n",
    "\n",
    "5.0 : float\n",
    "\n",
    "5 > 1 : boolean\n",
    "\n",
    "'5' : char\n",
    "\n",
    "5 * 2 : Int, Multiples two Operands\n",
    "\n",
    "'5' * 2 : Int\n",
    "\n",
    "'5' + '2':Int\n",
    "\n",
    "5 / 2 : Int: Divides two Operands\n",
    "\n",
    "5 % 2 :Int : The remainder of Two Operands\n",
    "\n",
    "{5, 2, 1} : List\n",
    "\n",
    "5 == 3 : boolean \n",
    "\n",
    "Pi (the number): double"
   ]
  },
  {
   "cell_type": "markdown",
   "id": "9243c29a",
   "metadata": {},
   "source": [
    "\n",
    "# Question 2 C#\n",
    "\n",
    "Write (and evaluate) C# expressions that answer these questions:\n",
    "\n",
    "\n",
    "a. How many letters are there in 'Supercalifragilisticexpialidocious'?\n",
    "\n",
    "b. Does 'Supercalifragilisticexpialidocious' contain 'ice' as a substring? \n",
    "\n",
    "c. Which of the following words is the longest:\n",
    "Supercalifragilisticexpialidocious, Honorificabilitudinitatibus, or\n",
    "Bababadalgharaghtakamminarronnkonn?\n",
    "\n",
    "d. Which composer comes first in the dictionary: 'Berlioz', 'Borodin', 'Brian',\n",
    "'Bartok', 'Bellini', 'Buxtehude', 'Bernstein'. Which one comes last?\n"
   ]
  },
  {
   "cell_type": "code",
   "execution_count": 42,
   "id": "d3724253",
   "metadata": {},
   "outputs": [
    {
     "name": "stdout",
     "output_type": "stream",
     "text": [
      "Number of letters in Supercalifragilisticexpialidocious is: 34\n",
      "Number of letters in Honorificabilitudinitatibus is: 27\n",
      "Number of letters in Bababadalgharaghtakamminarronnkonn is: 34\n",
      "Supercalifragilisticexpialidociouscontains ice: True\n"
     ]
    }
   ],
   "source": [
    "\n",
    "int Count1 = 0;\n",
    "string s1 = \"Supercalifragilisticexpialidocious\";\n",
    " for(int i = 0; i < s1.Length; i++)\n",
    "                Count1++;  \n",
    " Console.WriteLine(\"Number of letters in Supercalifragilisticexpialidocious is: \" + Count1);  \n",
    "int Count2 = 0;\n",
    "string s2 = \"Honorificabilitudinitatibus\";\n",
    " for(int j = 0; j < s2.Length; j++)\n",
    "                Count2++;  \n",
    "Console.WriteLine(\"Number of letters in Honorificabilitudinitatibus is: \" + Count2);\n",
    "int Count3 = 0;\n",
    "string s3 = \"Bababadalgharaghtakamminarronnkonn\";\n",
    " for(int k = 0; k < s3.Length; k++)\n",
    "                Count3++;  \n",
    "Console.WriteLine(\"Number of letters in Bababadalgharaghtakamminarronnkonn is: \" + Count3);\n",
    "Console.WriteLine(s1+ \"contains ice: \"+ s1.Contains(\"ice\"));\n",
    "\n",
    "\n"
   ]
  },
  {
   "cell_type": "markdown",
   "id": "69ae8db6",
   "metadata": {},
   "source": [
    "# Question 3 C#\n",
    "Implement function triangleArea(a,b,c) that takes as input the lengths of the 3\n",
    "sides of a triangle and returns the area of the triangle. By Heron's formula, the area\n",
    "of a triangle with side lengths a, b, and c is\n",
    "s(s - a)(s -b)(s -c)\n",
    ", where\n",
    "s = (a+b+c)/2.\n",
    ">>> triangleArea(2,2,2)\n",
    "1.7320508075688772\n"
   ]
  },
  {
   "cell_type": "code",
   "execution_count": 5,
   "id": "6e4e2eb9",
   "metadata": {},
   "outputs": [],
   "source": [
    " class TriangleArea\n",
    "     {\n",
    "            public double a;\n",
    "            public double b; \n",
    "            public double c;\n",
    "            public double s; \n",
    "            public double Area()\n",
    "            {\n",
    "                  double s = (a + b + c) / 2;\n",
    "                  double Area = Math.Sqrt(s * ( s - a) * (s - b) * (s - c));                  \n",
    "                  return Area;\n",
    "            }\n",
    "            public void Display()\n",
    "            {\n",
    "                  Console.WriteLine(\"Side1: {0}\", a);\n",
    "                  Console.WriteLine(\"Side2: {0}\", b);\n",
    "                  Console.WriteLine(\"Side3: {0}\", c);\n",
    "                  Console.WriteLine(\"Area: {0}\", Area());\n",
    "            }\n",
    "     }\n",
    "     \n"
   ]
  },
  {
   "cell_type": "code",
   "execution_count": 11,
   "id": "5c8cc450",
   "metadata": {},
   "outputs": [
    {
     "name": "stdout",
     "output_type": "stream",
     "text": [
      "Side1: 2\n",
      "Side2: 2\n",
      "Side3: 2\n",
      "Area: 1.7320508075688772\n"
     ]
    }
   ],
   "source": [
    "TriangleArea t = new TriangleArea();\n",
    "t.a = 2;\n",
    "t.b = 2;\n",
    "t.c = 2;\n",
    "t.Display();\n",
    "Console.ReadLine();"
   ]
  },
  {
   "cell_type": "markdown",
   "id": "5554a754",
   "metadata": {},
   "source": [
    "# Question 4 C#\n",
    "Write a program in C# Sharp to separate odd and even integers in separate arrays.\n",
    "\n",
    "Go to the editor\n",
    "\n",
    "Test Data :\n",
    "Input the number of elements to be stored in the array :5\n",
    "\n",
    "Input 5 elements in the array :\n",
    "\n",
    "element - 0 : 25\n",
    "\n",
    "Expected Output:\n",
    "\n",
    "The Even elements are:\n",
    "42 56 32\n",
    "\n",
    "The Odd elements are :\n",
    "25 47"
   ]
  },
  {
   "cell_type": "code",
   "execution_count": 44,
   "id": "af4e063d",
   "metadata": {},
   "outputs": [
    {
     "name": "stdout",
     "output_type": "stream",
     "text": [
      "Input the number of elements to be stored in the array : \n",
      " "
     ]
    },
    {
     "ename": "Unhandled Exception",
     "evalue": "Arithmetic operation resulted in an overflow.",
     "output_type": "error",
     "traceback": [
      "Unhandled Exception",
      "Arithmetic operation resulted in an overflow.",
      "   at Submission#45.<<Initialize>>d__0.MoveNext()",
      "--- End of stack trace from previous location where exception was thrown ---",
      "   at Microsoft.CodeAnalysis.Scripting.ScriptExecutionState.RunSubmissionsAsync[TResult](ImmutableArray`1 precedingExecutors, Func`2 currentExecutor, StrongBox`1 exceptionHolderOpt, Func`2 catchExceptionOpt, CancellationToken cancellationToken)"
     ]
    }
   ],
   "source": [
    "\n",
    "    \n",
    "         Console.Write(\"Input the number of elements to be stored in the array : \\n \");\n",
    "         int noOfItems = Console.Read();\n",
    "         int[] inputArray = new int[noOfItems];\n",
    "         for (int items = 0; items < noOfItems ; items++) {\n",
    "            inputArray[items] = Convert.ToInt32(Console.Read());\n",
    "         }\n",
    "         int[] odd = new int[noOfItems];\n",
    "         int[] even = new int[noOfItems];\n",
    "         int i, j = 0, k = 0;\n",
    "         for (i = 0; i < noOfItems; i++) {\n",
    "            if (inputArray[i] % 2 == 0) {\n",
    "               even[j] = inputArray[i];\n",
    "               j++;\n",
    "            } else {\n",
    "               odd[k] = inputArray[i];\n",
    "               k++;\n",
    "            }\n",
    "         }\n",
    "         public void Display(){\n",
    "         Console.WriteLine(\"Even numbers...\");\n",
    "         for (i = 0; i < j; i++) {\n",
    "            Console.WriteLine(even[j]);\n",
    "           //Console.WriteLine(arr2[i]);\n",
    "         }\n",
    "         Console.WriteLine(\"Odd numbers...\");\n",
    "         for (i = 0; i < k; i++) {\n",
    "            Console.WriteLine(odd[k]);}\n",
    "         }\n",
    "       \n",
    "   //public void Display()\n",
    "   //        {\n",
    "         //    Console.WriteLine(\"Even numbers...\",even[j]);\n",
    "          //   Console.WriteLine(\"Odd numbers...\",odd[k]);\n",
    "  "
   ]
  },
  {
   "cell_type": "code",
   "execution_count": 45,
   "id": "2f4b71b8",
   "metadata": {},
   "outputs": [
    {
     "ename": "Unhandled Exception",
     "evalue": "(1,17): error CS1002: ; expected",
     "output_type": "error",
     "traceback": [
      "(1,17): error CS1002: ; expected"
     ]
    }
   ],
   "source": [
    "Problemset1 Int e = new Problemset1();\n",
    "e.noOfItems = 5;\n",
    "e.inputArray[1] = 42;\n",
    "e.inputArray[2] = 56;\n",
    "e.inputArray[3] = 32;\n",
    "e.inputArray[4] = 25;\n",
    "e.inputArray[5] = 47;\n",
    "e.main();\n",
    "e.display();\n",
    "Console.ReadLine();"
   ]
  },
  {
   "cell_type": "code",
   "execution_count": null,
   "id": "c56bb7e0",
   "metadata": {},
   "outputs": [],
   "source": []
  }
 ],
 "metadata": {
  "kernelspec": {
   "display_name": ".NET (C#)",
   "language": "C#",
   "name": ".net-csharp"
  },
  "language_info": {
   "file_extension": ".cs",
   "mimetype": "text/x-csharp",
   "name": "C#",
   "pygments_lexer": "csharp",
   "version": "8.0"
  }
 },
 "nbformat": 4,
 "nbformat_minor": 5
}
