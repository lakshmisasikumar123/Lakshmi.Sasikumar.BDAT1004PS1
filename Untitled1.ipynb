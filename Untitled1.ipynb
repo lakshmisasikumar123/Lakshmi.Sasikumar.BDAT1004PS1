{
 "cells": [
  {
   "cell_type": "markdown",
   "id": "00278fc3",
   "metadata": {},
   "source": [
    "# Question 6 Python\n",
    "\n",
    "What data type is each of the following?You can turn a word into pig-Latin using the following two rules (simplified):\n",
    "\n",
    "• If the word starts with a consonant, move that letter to the end and append\n",
    "'ay'. For example, 'happy' becomes 'appyhay' and 'pencil' becomes 'encilpay'.\n",
    "\n",
    "• If the word starts with a vowel, simply append 'way' to the end of the word.\n",
    "For example, 'enter' becomes 'enterway' and 'other' becomes 'otherway' . For\n",
    "our purposes, there are 5 vowels: a, e, i, o, u (so we count y as a consonant).\n",
    "\n",
    "Write a function pig() that takes a word (i.e., a string) as input and returns its pigLatin form. Your function should still work if the input word contains upper case\n",
    "characters. Your output should always be lower case however. \n"
   ]
  },
  {
   "cell_type": "code",
   "execution_count": 1,
   "id": "9fd575f1",
   "metadata": {},
   "outputs": [
    {
     "name": "stdout",
     "output_type": "stream",
     "text": [
      "Enter the string 1 : happy\n",
      "appyhay\n",
      "Enter the string 2 : enter\n",
      "enterway\n"
     ]
    }
   ],
   "source": [
    "def pig(str):\n",
    "    str = str.lower()\n",
    "    vowels = [\"a\",\"e\",\"i\",\"o\",\"u\"]\n",
    "    if str[0] in vowels:0\n",
    "    \n",
    "    else:\n",
    "        print(str[1:]+str[0]+\"ay\")\n",
    "piglatin=input(\"Enter the string 1 : \")\n",
    "pig(piglatin)\n",
    "piglatin1=input(\"Enter the string 2 : \")\n",
    "pig(piglatin1)\n"
   ]
  },
  {
   "cell_type": "markdown",
   "id": "0dfa2473",
   "metadata": {},
   "source": [
    "# Question 7 Python\n",
    "\n",
    "File bloodtype1.txt records blood-types of patients (A, B, AB, O or OO) at a clinic.\n",
    "Write a function bldcount() that reads the file with name name and reports (i.e.,\n",
    "prints) how many patients there are in each bloodtype."
   ]
  },
  {
   "cell_type": "code",
   "execution_count": 1,
   "id": "58d5a533",
   "metadata": {},
   "outputs": [
    {
     "name": "stdout",
     "output_type": "stream",
     "text": [
      "There are 15 patients of bloodtype A\n",
      "There is 1 patient of bloodtype B\n",
      "There are 13 patients of bloodtype AB\n",
      "There are 15 patients of bloodtype O\n",
      "There is no patient of bloodtype OO\n"
     ]
    }
   ],
   "source": [
    "def bldcount(filename):\n",
    "    with open(filename,'r') as f:\n",
    "        data = f.readline()\n",
    "\n",
    "    bg = data.replace('\\n',\"\").split(' ')[:-1]\n",
    "    groups = dict()\n",
    "    bgs = [\"A\",\"B\",\"AB\",\"O\",\"OO\"]\n",
    "    for g in bgs:\n",
    "        groups[g]=0\n",
    "\n",
    "    for group in bg:\n",
    "        groups[group]+=1\n",
    "\n",
    "    for g in bgs:\n",
    "        if groups[g]>1:\n",
    "            print(f\"There are {groups[g]} patients of bloodtype {g}\")\n",
    "        \n",
    "        elif groups[g]==1:\n",
    "            print(f\"There is 1 patient of bloodtype {g}\")\n",
    "\n",
    "        else:\n",
    "            print(f\"There is no patient of bloodtype {g}\")\n",
    "\n",
    "\n",
    "bldcount(\"bloodtype.txt\")"
   ]
  },
  {
   "cell_type": "markdown",
   "id": "b773c194",
   "metadata": {},
   "source": [
    "# Question 8 Python\n",
    "Write a function curconv() that takes as input:\n",
    "1. a currency represented using a string (e.g., 'JPY' for the Japanese Yen or\n",
    "'EUR' for the Euro)\n",
    "2. an amount\n",
    "\n",
    "and then converts and returns the amount in US dollars.\n"
   ]
  },
  {
   "cell_type": "code",
   "execution_count": 1,
   "id": "025fd4d5",
   "metadata": {},
   "outputs": [
    {
     "name": "stdout",
     "output_type": "stream",
     "text": [
      "Enter the currency type(eg: AUD or Australian Dollar): AUD\n",
      "Enter the amount to be converted into dollar: 100\n",
      "The converted value in dollar is 103.45157\n"
     ]
    }
   ],
   "source": [
    "def curconv(currency,value):\n",
    "    cur_dic  = {\"AUD\" :1.0345157, \"CHF\":1.0237414,\"CNY\":0.1550176,\"DKK\":0.1651442,\"EUR\":1.2296544,\"GBP\": 1.5550989,\n",
    "            \"HKD\" : 0.1270207,\"INR\" :0.0177643,\"JPY\":0.01241401,\"MXN\":0.0751848,\"MYR\":0.3145411 ,\"NOK\":0.1677063,\n",
    "            \"NZD\" :0.8003591,\"PHP\":0.0233234,\"SEK\":0.148269,\"SGD\":0.788871,\"THB\":0.0313789 }\n",
    "\n",
    "    result = cur_dic[currency] * float(value)\n",
    "\n",
    "    return result\n",
    "\n",
    "\n",
    "x=input('Enter the currency type(eg: AUD or Australian Dollar): ')\n",
    "y=input('Enter the amount to be converted into dollar: ')\n",
    "print('The converted value in dollar is',curconv(x,y))"
   ]
  },
  {
   "cell_type": "markdown",
   "id": "858bf8f0",
   "metadata": {},
   "source": [
    "# Question 9 Python\n",
    "\n",
    "Each of the following will cause an exception (an error). Identify what type of\n",
    "exception each will cause.\n",
    "Trying to add incompatible variables, as in\n",
    "adding 6 + ‘a’\n",
    "Referring to the 12th item of a list that has only 10\n",
    "items\n",
    "Using a value that is out of range for a function’s\n",
    "input, such as calling math.sqrt(-1.0)\n",
    "Using an undeclared variable, such as print(x)\n",
    "when x has not been defined\n",
    "Trying to open a file that does not exist, such as\n",
    "mistyping the file name or looking in the wrong\n",
    "directory. "
   ]
  },
  {
   "cell_type": "code",
   "execution_count": 5,
   "id": "b79cab74",
   "metadata": {
    "scrolled": true
   },
   "outputs": [
    {
     "ename": "TypeError",
     "evalue": "unsupported operand type(s) for +: 'int' and 'str'",
     "output_type": "error",
     "traceback": [
      "\u001b[1;31m---------------------------------------------------------------------------\u001b[0m",
      "\u001b[1;31mTypeError\u001b[0m                                 Traceback (most recent call last)",
      "\u001b[1;32m<ipython-input-5-66a1e9305017>\u001b[0m in \u001b[0;36m<module>\u001b[1;34m\u001b[0m\n\u001b[0;32m      1\u001b[0m \u001b[1;31m#1. Trying to add incompatible variables, as in adding 6 + ‘a’\u001b[0m\u001b[1;33m\u001b[0m\u001b[1;33m\u001b[0m\u001b[1;33m\u001b[0m\u001b[0m\n\u001b[1;32m----> 2\u001b[1;33m \u001b[1;36m6\u001b[0m \u001b[1;33m+\u001b[0m\u001b[1;34m'a'\u001b[0m\u001b[1;33m\u001b[0m\u001b[1;33m\u001b[0m\u001b[0m\n\u001b[0m",
      "\u001b[1;31mTypeError\u001b[0m: unsupported operand type(s) for +: 'int' and 'str'"
     ]
    }
   ],
   "source": [
    "#1. Trying to add incompatible variables, as in adding 6 + ‘a’\n",
    "6 +'a'"
   ]
  },
  {
   "cell_type": "code",
   "execution_count": 6,
   "id": "139fdab4",
   "metadata": {},
   "outputs": [
    {
     "ename": "IndexError",
     "evalue": "list index out of range",
     "output_type": "error",
     "traceback": [
      "\u001b[1;31m---------------------------------------------------------------------------\u001b[0m",
      "\u001b[1;31mIndexError\u001b[0m                                Traceback (most recent call last)",
      "\u001b[1;32m<ipython-input-6-5efd8bc1f88c>\u001b[0m in \u001b[0;36m<module>\u001b[1;34m\u001b[0m\n\u001b[0;32m      1\u001b[0m \u001b[1;31m#2. Referring to the 12th item of a list that has only 10 items\u001b[0m\u001b[1;33m\u001b[0m\u001b[1;33m\u001b[0m\u001b[1;33m\u001b[0m\u001b[0m\n\u001b[0;32m      2\u001b[0m \u001b[0mlist\u001b[0m\u001b[1;33m=\u001b[0m\u001b[1;33m[\u001b[0m\u001b[1;36m3\u001b[0m\u001b[1;33m,\u001b[0m\u001b[1;36m6\u001b[0m\u001b[1;33m,\u001b[0m\u001b[1;36m9\u001b[0m\u001b[1;33m,\u001b[0m\u001b[1;36m12\u001b[0m\u001b[1;33m,\u001b[0m\u001b[1;36m15\u001b[0m\u001b[1;33m,\u001b[0m\u001b[1;36m18\u001b[0m\u001b[1;33m,\u001b[0m\u001b[1;36m21\u001b[0m\u001b[1;33m,\u001b[0m\u001b[1;36m24\u001b[0m\u001b[1;33m,\u001b[0m\u001b[1;36m27\u001b[0m\u001b[1;33m,\u001b[0m\u001b[1;36m30\u001b[0m\u001b[1;33m]\u001b[0m\u001b[1;33m\u001b[0m\u001b[1;33m\u001b[0m\u001b[0m\n\u001b[1;32m----> 3\u001b[1;33m \u001b[0mprint\u001b[0m\u001b[1;33m(\u001b[0m\u001b[0mlist\u001b[0m\u001b[1;33m[\u001b[0m\u001b[1;36m12\u001b[0m\u001b[1;33m]\u001b[0m\u001b[1;33m)\u001b[0m\u001b[1;33m\u001b[0m\u001b[1;33m\u001b[0m\u001b[0m\n\u001b[0m",
      "\u001b[1;31mIndexError\u001b[0m: list index out of range"
     ]
    }
   ],
   "source": [
    "#2. Referring to the 12th item of a list that has only 10 items\n",
    "list=[3,6,9,12,15,18,21,24,27,30]\n",
    "print(list[12])"
   ]
  },
  {
   "cell_type": "code",
   "execution_count": 19,
   "id": "cd9dc153",
   "metadata": {},
   "outputs": [
    {
     "ename": "ValueError",
     "evalue": "math domain error",
     "output_type": "error",
     "traceback": [
      "\u001b[1;31m---------------------------------------------------------------------------\u001b[0m",
      "\u001b[1;31mValueError\u001b[0m                                Traceback (most recent call last)",
      "\u001b[1;32m<ipython-input-19-00800bce4702>\u001b[0m in \u001b[0;36m<module>\u001b[1;34m\u001b[0m\n\u001b[0;32m      1\u001b[0m \u001b[1;31m#3. Using a value that is out of range for a function’s input\u001b[0m\u001b[1;33m\u001b[0m\u001b[1;33m\u001b[0m\u001b[1;33m\u001b[0m\u001b[0m\n\u001b[0;32m      2\u001b[0m \u001b[1;32mimport\u001b[0m \u001b[0mmath\u001b[0m\u001b[1;33m\u001b[0m\u001b[1;33m\u001b[0m\u001b[0m\n\u001b[1;32m----> 3\u001b[1;33m \u001b[0mmath\u001b[0m\u001b[1;33m.\u001b[0m\u001b[0msqrt\u001b[0m\u001b[1;33m(\u001b[0m\u001b[1;33m-\u001b[0m\u001b[1;36m1.0\u001b[0m\u001b[1;33m)\u001b[0m\u001b[1;33m\u001b[0m\u001b[1;33m\u001b[0m\u001b[0m\n\u001b[0m",
      "\u001b[1;31mValueError\u001b[0m: math domain error"
     ]
    }
   ],
   "source": [
    "#3. Using a value that is out of range for a function’s input\n",
    "import math\n",
    "math.sqrt(-1.0) "
   ]
  },
  {
   "cell_type": "code",
   "execution_count": 17,
   "id": "077c617f",
   "metadata": {},
   "outputs": [
    {
     "ename": "NameError",
     "evalue": "name 'z' is not defined",
     "output_type": "error",
     "traceback": [
      "\u001b[1;31m---------------------------------------------------------------------------\u001b[0m",
      "\u001b[1;31mNameError\u001b[0m                                 Traceback (most recent call last)",
      "\u001b[1;32m<ipython-input-17-5cfeaae070da>\u001b[0m in \u001b[0;36m<module>\u001b[1;34m\u001b[0m\n\u001b[0;32m      1\u001b[0m \u001b[1;31m#4.  Using an undeclared variable, such as print(x) when x has not been defined\u001b[0m\u001b[1;33m\u001b[0m\u001b[1;33m\u001b[0m\u001b[1;33m\u001b[0m\u001b[0m\n\u001b[1;32m----> 2\u001b[1;33m \u001b[0mprint\u001b[0m\u001b[1;33m(\u001b[0m\u001b[0mz\u001b[0m\u001b[1;33m)\u001b[0m\u001b[1;33m\u001b[0m\u001b[1;33m\u001b[0m\u001b[0m\n\u001b[0m",
      "\u001b[1;31mNameError\u001b[0m: name 'z' is not defined"
     ]
    }
   ],
   "source": [
    "#4.  Using an undeclared variable, such as print(x) when x has not been defined\n",
    "print(z)"
   ]
  },
  {
   "cell_type": "code",
   "execution_count": 18,
   "id": "af41d180",
   "metadata": {},
   "outputs": [
    {
     "ename": "FileNotFoundError",
     "evalue": "[Errno 2] No such file or directory: 'bloodtest.txt'",
     "output_type": "error",
     "traceback": [
      "\u001b[1;31m---------------------------------------------------------------------------\u001b[0m",
      "\u001b[1;31mFileNotFoundError\u001b[0m                         Traceback (most recent call last)",
      "\u001b[1;32m<ipython-input-18-3a502c29f97c>\u001b[0m in \u001b[0;36m<module>\u001b[1;34m\u001b[0m\n\u001b[0;32m      1\u001b[0m \u001b[1;31m#5.  Trying to open a file that does not exist, such as mistyping the file name or looking in the wrong directory.\u001b[0m\u001b[1;33m\u001b[0m\u001b[1;33m\u001b[0m\u001b[1;33m\u001b[0m\u001b[0m\n\u001b[0;32m      2\u001b[0m \u001b[1;33m\u001b[0m\u001b[0m\n\u001b[1;32m----> 3\u001b[1;33m \u001b[0mfile\u001b[0m\u001b[1;33m=\u001b[0m\u001b[0mopen\u001b[0m\u001b[1;33m(\u001b[0m\u001b[1;34m'bloodtest.txt'\u001b[0m\u001b[1;33m,\u001b[0m\u001b[1;34m'r'\u001b[0m\u001b[1;33m)\u001b[0m\u001b[1;33m\u001b[0m\u001b[1;33m\u001b[0m\u001b[0m\n\u001b[0m",
      "\u001b[1;31mFileNotFoundError\u001b[0m: [Errno 2] No such file or directory: 'bloodtest.txt'"
     ]
    }
   ],
   "source": [
    "#5.  Trying to open a file that does not exist, such as mistyping the file name or looking in the wrong directory. \n",
    "\n",
    "file=open('bloodtest.txt','r')"
   ]
  },
  {
   "cell_type": "markdown",
   "id": "4d86d921",
   "metadata": {},
   "source": [
    "# Question 10 Python\n",
    "Encryption is the process of hiding the meaning of a text by substituting letters in the\n",
    "message with other letters, according to some system. If the process is successful, no\n",
    "one but the intended recipient can understand the encrypted message. Cryptanalysis\n",
    "refers to attempts to undo the encryption, even if some details of the encryption are\n",
    "unknown (for example, if an encrypted message has been intercepted). The first step\n",
    "of cryptanalysis is often to build up a table of letter frequencies in the encrypted text.\n",
    "Assume that the string letters is already defined as\n",
    "'abcdefghijklmnopqrstuvwxyz'. Write a function called frequencies()\n",
    "that takes a string as its only parameter, and returns a list of integers, showing the\n",
    "number of times each character appears in the text. Your function may ignore any\n",
    "characters that are not in letters"
   ]
  }
 ],
 "metadata": {
  "kernelspec": {
   "display_name": "Python 3",
   "language": "python",
   "name": "python3"
  },
  "language_info": {
   "codemirror_mode": {
    "name": "ipython",
    "version": 3
   },
   "file_extension": ".py",
   "mimetype": "text/x-python",
   "name": "python",
   "nbconvert_exporter": "python",
   "pygments_lexer": "ipython3",
   "version": "3.8.8"
  }
 },
 "nbformat": 4,
 "nbformat_minor": 5
}
